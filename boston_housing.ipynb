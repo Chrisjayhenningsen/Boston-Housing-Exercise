{
 "cells": [
  {
   "cell_type": "markdown",
   "metadata": {},
   "source": [
    "# Machine Learning Engineer Nanodegree\n",
    "## Model Evaluation & Validation\n",
    "## Project 1: Predicting Boston Housing Prices\n",
    "\n",
    "Welcome to the first project of the Machine Learning Engineer Nanodegree! In this notebook, some template code has already been written. You will need to implement additional functionality to successfully answer all of the questions for this project. Unless it is requested, do not modify any of the code that has already been included. In this template code, there are four sections which you must complete to successfully produce a prediction with your model. Each section where you will write code is preceded by a **STEP X** header with comments describing what must be done. Please read the instructions carefully!\n",
    "\n",
    "In addition to implementing code, there will be questions that you must answer that relate to the project and your implementation. Each section where you will answer a question is preceded by a **QUESTION X** header. Be sure that you have carefully read each question and provide thorough answers in the text boxes that begin with \"**Answer:**\". Your project submission will be evaluated based on your answers to each of the questions.  \n",
    "\n",
    "A description of the dataset can be found [here](https://archive.ics.uci.edu/ml/datasets/Housing), which is provided by the **UCI Machine Learning Repository**."
   ]
  },
  {
   "cell_type": "markdown",
   "metadata": {},
   "source": [
    "# Getting Started\n",
    "To familiarize yourself with an iPython Notebook, **try double clicking on this cell**. You will notice that the text changes so that all the formatting is removed. This allows you to make edits to the block of text you see here. This block of text (and mostly anything that's not code) is written using [Markdown](http://daringfireball.net/projects/markdown/syntax), which is a way to format text using headers, links, italics, and many other options! Whether you're editing a Markdown text block or a code block (like the one below), you can use the keyboard shortcut **Shift + Enter** or **Shift + Return** to execute the code or text block. In this case, it will show the formatted text.\n",
    "\n",
    "Let's start by setting up some code we will need to get the rest of the project up and running. Use the keyboard shortcut mentioned above on the following code block to execute it. Alternatively, depending on your iPython Notebook program, you can press the **Play** button in the hotbar. You'll know the code block executes successfully if the message *\"Boston Housing dataset loaded successfully!\"* is printed."
   ]
  },
  {
   "cell_type": "code",
   "execution_count": 2,
   "metadata": {
    "collapsed": false
   },
   "outputs": [
    {
     "name": "stdout",
     "output_type": "stream",
     "text": [
      "Boston Housing dataset loaded successfully!\n"
     ]
    }
   ],
   "source": [
    "# Importing a few necessary libraries\n",
    "import numpy as np\n",
    "import matplotlib.pyplot as pl\n",
    "from sklearn import datasets\n",
    "from sklearn.tree import DecisionTreeRegressor\n",
    "\n",
    "# Make matplotlib show our plots inline (nicely formatted in the notebook)\n",
    "%matplotlib inline\n",
    "\n",
    "# Create our client's feature set for which we will be predicting a selling price\n",
    "CLIENT_FEATURES = [[11.95, 0.00, 18.100, 0, 0.6590, 5.6090, 90.00, 1.385, 24, 680.0, 20.20, 332.09, 12.13]]\n",
    "\n",
    "# Load the Boston Housing dataset into the city_data variable\n",
    "city_data = datasets.load_boston()\n",
    "\n",
    "# Initialize the housing prices and housing features\n",
    "housing_prices = city_data.target\n",
    "housing_features = city_data.data\n",
    "\n",
    "print \"Boston Housing dataset loaded successfully!\""
   ]
  },
  {
   "cell_type": "markdown",
   "metadata": {},
   "source": [
    "# Statistical Analysis and Data Exploration\n",
    "In this first section of the project, you will quickly investigate a few basic statistics about the dataset you are working with. In addition, you'll look at the client's feature set in `CLIENT_FEATURES` and see how this particular sample relates to the features of the dataset. Familiarizing yourself with the data through an explorative process is a fundamental practice to help you better understand your results."
   ]
  },
  {
   "cell_type": "markdown",
   "metadata": {},
   "source": [
    "## Step 1\n",
    "In the code block below, use the imported `numpy` library to calculate the requested statistics. You will need to replace each `None` you find with the appropriate `numpy` coding for the proper statistic to be printed. Be sure to execute the code block each time to test if your implementation is working successfully. The print statements will show the statistics you calculate!"
   ]
  },
  {
   "cell_type": "code",
   "execution_count": 3,
   "metadata": {
    "collapsed": false
   },
   "outputs": [
    {
     "name": "stdout",
     "output_type": "stream",
     "text": [
      "Boston Housing dataset statistics (in $1000's):\n",
      "\n",
      "Total number of houses: 506\n",
      "Total number of features: 13\n",
      "Minimum house price: 5.0\n",
      "Maximum house price: 50.0\n",
      "Mean house price: 22.5328063241\n",
      "Median house price: 21.2\n",
      "Standard deviation of house price: 9.18801154528\n"
     ]
    }
   ],
   "source": [
    "# Number of houses in the dataset\n",
    "total_houses = housing_features.shape[0]\n",
    "\n",
    "# Number of features in the dataset\n",
    "total_features = housing_features.shape[1]\n",
    "\n",
    "# Minimum housing value in the dataset\n",
    "minimum_price = min(housing_prices)\n",
    "\n",
    "# Maximum housing value in the dataset\n",
    "maximum_price = max(housing_prices)\n",
    "\n",
    "# Mean house value of the dataset\n",
    "mean_price = housing_prices.mean()\n",
    "\n",
    "# Median house value of the dataset\n",
    "median_price = np.median(housing_prices)\n",
    "\n",
    "# Standard deviation of housing values of the dataset\n",
    "std_dev = np.std(housing_prices)\n",
    "\n",
    "# Show the calculated statistics\n",
    "print \"Boston Housing dataset statistics (in $1000's):\\n\"\n",
    "print \"Total number of houses:\", total_houses\n",
    "print \"Total number of features:\", total_features\n",
    "print \"Minimum house price:\", minimum_price\n",
    "print \"Maximum house price:\", maximum_price\n",
    "#the 0.3f was causing a fatal error, I'm not sure why. replacing it with just 0 works though.\n",
    "print \"Mean house price: {0}\".format(mean_price)\n",
    "print \"Median house price:\", median_price\n",
    "print \"Standard deviation of house price: {0}\".format(std_dev)"
   ]
  },
  {
   "cell_type": "markdown",
   "metadata": {},
   "source": [
    "## Question 1\n",
    "As a reminder, you can view a description of the Boston Housing dataset [here](https://archive.ics.uci.edu/ml/datasets/Housing), where you can find the different features under **Attribute Information**. The `MEDV` attribute relates to the values stored in our `housing_prices` variable, so we do not consider that a feature of the data.\n",
    "\n",
    "*Of the features available for each data point, choose three that you feel are significant and give a brief description for each of what they measure.*\n",
    "\n",
    "Remember, you can **double click the text box below** to add your answer!"
   ]
  },
  {
   "cell_type": "markdown",
   "metadata": {},
   "source": [
    "**Answer: **\n",
    "\n",
    "The following three features seem most promising as areas to predict sale price:\n",
    "\n",
    "CRIM, or per capita crime rate, is the frequency of crime in the area the house belongs to. This is typically a predictor of property values and economic status in general, so it seems like a potentially very important feature.\n",
    "\n",
    "INDUS describes the proportion of non-retail business acres in town. Since this is related to the character of the house's location, and will have strong effects on how a population center fares economically in relation to business cycles, it seems like a potentially important feature to study.\n",
    "\n",
    "RM is the average number of rooms per dwelling, and being related to square footage it seems likely to be an important feature for predicting sale prices."
   ]
  },
  {
   "cell_type": "markdown",
   "metadata": {},
   "source": [
    "## Question 2\n",
    "*Using your client's feature set `CLIENT_FEATURES`, which values correspond with the features you've chosen above?*  \n",
    "**Hint: ** Run the code block below to see the client's data."
   ]
  },
  {
   "cell_type": "code",
   "execution_count": 4,
   "metadata": {
    "collapsed": false
   },
   "outputs": [
    {
     "name": "stdout",
     "output_type": "stream",
     "text": [
      "[[11.95, 0.0, 18.1, 0, 0.659, 5.609, 90.0, 1.385, 24, 680.0, 20.2, 332.09, 12.13]]\n"
     ]
    }
   ],
   "source": [
    "print CLIENT_FEATURES"
   ]
  },
  {
   "cell_type": "markdown",
   "metadata": {},
   "source": [
    "**Answer: **\n",
    "The features I mentioned as potentially the most important have the following values:\n",
    "\n",
    "CRIM: 11.95 (presumably convictions per 1000)\n",
    "INDUS: 18.1 (presumably percent)\n",
    "RM: 5.609 (This is simply a dimensionless count)\n"
   ]
  },
  {
   "cell_type": "markdown",
   "metadata": {},
   "source": [
    "# Evaluating Model Performance\n",
    "In this second section of the project, you will begin to develop the tools necessary for a model to make a prediction. Being able to accurately evaluate each model's performance through the use of these tools helps to greatly reinforce the confidence in your predictions."
   ]
  },
  {
   "cell_type": "markdown",
   "metadata": {},
   "source": [
    "## Step 2\n",
    "In the code block below, you will need to implement code so that the `shuffle_split_data` function does the following:\n",
    "- Randomly shuffle the input data `X` and target labels (housing values) `y`.\n",
    "- Split the data into training and testing subsets, holding 30% of the data for testing.\n",
    "\n",
    "If you use any functions not already acessible from the imported libraries above, remember to include your import statement below as well!   \n",
    "Ensure that you have executed the code block once you are done. You'll know the `shuffle_split_data` function is working if the statement *\"Successfully shuffled and split the data!\"* is printed."
   ]
  },
  {
   "cell_type": "code",
   "execution_count": 5,
   "metadata": {
    "collapsed": false
   },
   "outputs": [
    {
     "name": "stdout",
     "output_type": "stream",
     "text": [
      "(array([[  2.49800000e-02,   0.00000000e+00,   1.89000000e+00, ...,\n",
      "          1.59000000e+01,   3.89960000e+02,   8.65000000e+00],\n",
      "       [  5.08300000e-02,   0.00000000e+00,   5.19000000e+00, ...,\n",
      "          2.02000000e+01,   3.89710000e+02,   5.68000000e+00],\n",
      "       [  4.83567000e+00,   0.00000000e+00,   1.81000000e+01, ...,\n",
      "          2.02000000e+01,   3.88220000e+02,   1.14500000e+01],\n",
      "       ..., \n",
      "       [  1.50100000e-02,   8.00000000e+01,   2.01000000e+00, ...,\n",
      "          1.70000000e+01,   3.90940000e+02,   5.99000000e+00],\n",
      "       [  1.11604000e+01,   0.00000000e+00,   1.81000000e+01, ...,\n",
      "          2.02000000e+01,   1.09850000e+02,   2.32700000e+01],\n",
      "       [  2.28760000e-01,   0.00000000e+00,   8.56000000e+00, ...,\n",
      "          2.09000000e+01,   7.08000000e+01,   1.06300000e+01]]), array([ 16.5,  22.2,  20.6,  13.5,  48.3,  23.8,  22.7,  17.4,  30.3,\n",
      "        36. ,  41.7,  18.3,  22. ,  18.6,  44.8,  11.9,  18.7,  16.2,\n",
      "        22. ,   7.2,  20.4,  13.8,  13. ,  18.4,  23.1,  21.2,  23.1,\n",
      "        23.5,  50. ,  26.6,  22.2,  50. ,   8.3,  23.3,  21.7,  18.9,\n",
      "        18.4,  17.4,  13.4,  12.1,  26.6,  21.7,  28.4,  20.5,  22. ,\n",
      "        13.9,  11.3,  29.9,  26.6,  10.5,  23.2,  24.4,  46. ,  21.9,\n",
      "         7.5,  36.2,  44. ,  17.8,  27.5,  37.6,  14.1,  28.1,  10.2,\n",
      "        19.1,  43.8,  27.9,  25. ,  16. ,  16.6,  13.2,  50. ,  22.2,\n",
      "        32.9,  15.2,  14.8,  13.8,  24.3,  33.8,  22.3,  50. ,   9.5,\n",
      "        13.3,  22.2,  18.1,  18. ,  25. ,  16.5,  23. ,  20.1,  33. ,\n",
      "        24.8,  18.2,  13.1,  34.9,  10.2,  19.9,  27.9,  23.3,  35.1,\n",
      "        12.8,  22. ,  18.5,  25.1,  22.5,  22.4,  28.6,  19.5,  24.8,\n",
      "        24.5,  21.4,  33.1,  22.9,  20.7,  24.1,  50. ,  24.7,  28.7,\n",
      "         7.2,  37. ,  20.3,  30.1,  19.5,  23.4,  11.5,  21.6,  14.9,\n",
      "        15.2,  19.4,   8.4,  28. ,  22.6,  13.5,  14.5,  31. ,  10.9,\n",
      "        21.9,  22. ,  19. ,  21.4,  25. ,  17.5,  36.5,  20.1,  20.4,\n",
      "        16.2,  23.6,   7.4,  35.2,  50. ,  19.3,  21.2,  15.6,  33.4,\n",
      "        19.1,  21. ,  23.7,  18.9,  16.8,  19.7,  17.7,  22.6,  11.8,\n",
      "        34.9,  20.6,  20.2,  32. ,  22.3,  23.3,  14.4,  31.2,  24. ,\n",
      "        29.6,  19.6,  21.6,  20. ,  27. ,  33.2,  15.4,  30.5,   7.2,\n",
      "        23.9,  16.3,  23.9,  50. ,  22.8,  15.4,  19.2,  19.6,  22.6,\n",
      "        33.2,  50. ,  22.2,  14.9,  19.8,  23.7,  19. ,  20.3,  11.9,\n",
      "        13.6,  29.8,  21.7,  19.5,  21.1,  24.5,  13.4,  18.6]), array([[  9.17800000e-02,   0.00000000e+00,   4.05000000e+00, ...,\n",
      "          1.66000000e+01,   3.95500000e+02,   9.04000000e+00],\n",
      "       [  5.64400000e-02,   4.00000000e+01,   6.41000000e+00, ...,\n",
      "          1.76000000e+01,   3.96900000e+02,   3.53000000e+00],\n",
      "       [  1.05740000e-01,   0.00000000e+00,   2.77400000e+01, ...,\n",
      "          2.01000000e+01,   3.90110000e+02,   1.80700000e+01],\n",
      "       ..., \n",
      "       [  1.23290000e-01,   0.00000000e+00,   1.00100000e+01, ...,\n",
      "          1.78000000e+01,   3.94950000e+02,   1.62100000e+01],\n",
      "       [  5.78000000e-02,   0.00000000e+00,   2.46000000e+00, ...,\n",
      "          1.78000000e+01,   3.96900000e+02,   5.04000000e+00],\n",
      "       [  2.63548000e+00,   0.00000000e+00,   9.90000000e+00, ...,\n",
      "          1.84000000e+01,   3.50450000e+02,   1.26400000e+01]]), array([ 23.6,  32.4,  13.6,  22.8,  16.1,  20. ,  17.8,  14. ,  19.6,\n",
      "        16.8,  21.5,  18.9,   7. ,  21.2,  18.5,  29.8,  18.8,  10.2,\n",
      "        50. ,  14.1,  25.2,  29.1,  12.7,  22.4,  14.2,  13.8,  20.3,\n",
      "        14.9,  21.7,  18.3,  23.1,  23.8,  15. ,  20.8,  19.1,  19.4,\n",
      "        34.7,  19.5,  24.4,  23.4,  19.7,  28.2,  50. ,  17.4,  22.6,\n",
      "        15.1,  13.1,  24.2,  19.9,  24. ,  18.9,  35.4,  15.2,  26.5,\n",
      "        43.5,  21.2,  18.4,  28.5,  23.9,  18.5,  25. ,  35.4,  31.5,\n",
      "        20.2,  24.1,  20. ,  13.1,  24.8,  30.8,  12.7,  20. ,  23.7,\n",
      "        10.8,  20.6,  20.8,   5. ,  20.1,  48.5,  10.9,   7. ,  20.9,\n",
      "        17.2,  20.9,   9.7,  19.4,  29. ,  16.4,  25. ,  25. ,  17.1,\n",
      "        23.2,  10.4,  19.6,  17.2,  27.5,  23. ,  50. ,  17.9,   9.6,\n",
      "        17.2,  22.5,  21.4,  12. ,  19.9,  19.4,  13.4,  18.2,  24.6,\n",
      "        21.1,  24.7,   8.7,  27.5,  20.7,  36.2,  31.6,  11.7,  39.8,\n",
      "        13.9,  21.8,  23.7,  17.6,  24.4,   8.8,  19.2,  25.3,  20.4,\n",
      "        23.1,  37.9,  15.6,  45.4,  15.7,  22.6,  14.5,  18.7,  17.8,\n",
      "        16.1,  20.6,  31.6,  29.1,  15.6,  17.5,  22.5,  19.4,  19.3,\n",
      "         8.5,  20.6,  17. ,  17.1,  14.5,  50. ,  14.3,  12.6,  28.7,\n",
      "        21.2,  19.3,  23.1,  19.1,  25. ,  33.4,   5. ,  29.6,  18.7,\n",
      "        21.7,  23.1,  22.8,  21. ,  48.8,  14.6,  16.6,  27.1,  20.1,\n",
      "        19.8,  21. ,  41.3,  23.2,  20.4,  18.5,  29.4,  36.4,  24.4,\n",
      "        11.8,  13.8,  12.3,  17.8,  33.1,  26.7,  13.4,  14.4,  50. ,\n",
      "        22. ,  19.9,  23.8,  17.5,  12.7,   5.6,  31.1,  26.2,  19.4,\n",
      "        16.7,  13.8,  22.9,  15.3,  27.5,  36.1,  22.9,  24.5,  25. ,\n",
      "        50. ,  34.9,  31.7,  24.1,  22.1,  14.1,  42.8,  19.3,  32.2,\n",
      "        26.4,  21.8,  21.7,   8.3,  46.7,  43.1,  31.5,  10.5,  16.7,\n",
      "        20. ,  33.3,  17.8,  50. ,  20.5,  23.2,  13.1,  19.6,  22.8,\n",
      "        28.7,  30.7,  22.9,  21.9,  23.9,  32.7,  24.3,  21.5,  24.6,\n",
      "         8.5,  26.4,  23.1,  15. ,   8.8,  19.3,  23.9,  24.7,  19.8,\n",
      "        23.8,  13.3,  29. ,  27.1,  34.6,  13.3,  15.6,  12.5,  14.6,\n",
      "        11. ,  24.8,  17.3,   8.1,  21.4,  15.6,  23.3,  32. ,  38.7,\n",
      "        30.1,  20.5,  32.5,  42.3,  24.3,  20.6,  22. ,  18.2,  15. ,\n",
      "         6.3,  20.1,  21.4,  28.4,  30.1,  20.8,  23. ,  14.3,  11.7,\n",
      "        37.3,  17.1,  10.4,  23. ,  22.7,  20.3,  21.7,  50. ,   8.4,\n",
      "        18.8,  37.2,  16.1]))\n",
      "Successfully shuffled and split the data!\n"
     ]
    }
   ],
   "source": [
    "from sklearn.cross_validation import train_test_split\n",
    "\n",
    "def shuffle_split_data(X, y):\n",
    "    \"\"\" Shuffles and splits data into 70% training and 30% testing subsets,\n",
    "        then returns the training and testing subsets. \"\"\"\n",
    "\n",
    "    # Shuffle and split the data\n",
    "    X_train = None\n",
    "    y_train = None\n",
    "    X_test = None\n",
    "    y_test = None\n",
    "    \n",
    "    X_train, X_test, y_train, y_test = train_test_split(X, y, test_size=300, random_state=42)\n",
    "    #Reference 1: sklearn documentation\n",
    "\n",
    "    # Return the training and testing data subsets\n",
    "    return X_train, y_train, X_test, y_test\n",
    "\n",
    "print(shuffle_split_data(housing_features, housing_prices))\n",
    "# Test shuffle_split_data\n",
    "try:\n",
    "    X_train, y_train, X_test, y_test = shuffle_split_data(housing_features, housing_prices)\n",
    "    print \"Successfully shuffled and split the data!\"\n",
    "except:\n",
    "    print \"Something went wrong with shuffling and splitting the data.\""
   ]
  },
  {
   "cell_type": "markdown",
   "metadata": {},
   "source": [
    "## Question 3\n",
    "*Why do we split the data into training and testing subsets for our model?*"
   ]
  },
  {
   "cell_type": "markdown",
   "metadata": {},
   "source": [
    "**Answer: **\n",
    "We split data into test and training sets because it would otherwise be impossible to tell to what degree our model works only for the data it learned on and to what degree it makes useful predictions about novel data of the same nature. To put it another way, if we tested our model using our training data, we wouldn't know to what degree we are overfitting.\n"
   ]
  },
  {
   "cell_type": "markdown",
   "metadata": {},
   "source": [
    "## Step 3\n",
    "In the code block below, you will need to implement code so that the `performance_metric` function does the following:\n",
    "- Perform a total error calculation between the true values of the `y` labels `y_true` and the predicted values of the `y` labels `y_predict`.\n",
    "\n",
    "You will need to first choose an appropriate performance metric for this problem. See [the sklearn metrics documentation](http://scikit-learn.org/stable/modules/classes.html#sklearn-metrics-metrics) to view a list of available metric functions. **Hint: ** Look at the question below to see a list of the metrics that were covered in the supporting course for this project.\n",
    "\n",
    "Once you have determined which metric you will use, remember to include the necessary import statement as well!  \n",
    "Ensure that you have executed the code block once you are done. You'll know the `performance_metric` function is working if the statement *\"Successfully performed a metric calculation!\"* is printed."
   ]
  },
  {
   "cell_type": "code",
   "execution_count": 6,
   "metadata": {
    "collapsed": false
   },
   "outputs": [
    {
     "name": "stdout",
     "output_type": "stream",
     "text": [
      "Successfully performed a metric calculation!\n"
     ]
    }
   ],
   "source": [
    "from sklearn.metrics import mean_squared_error\n",
    "from sklearn.grid_search import GridSearchCV\n",
    "from sklearn.svm import LinearSVC\n",
    "\n",
    "def performance_metric(y_true, y_predict):\n",
    "    \"\"\" Calculates and returns the total error between true and predicted values\n",
    "        based on a performance metric chosen by the student. \"\"\"\n",
    "\n",
    "    error = mean_squared_error(y_true, y_predict)\n",
    "    return error\n",
    "\n",
    "\n",
    "# Test performance_metric\n",
    "try:\n",
    "    total_error = performance_metric(y_train, y_train)\n",
    "    print \"Successfully performed a metric calculation!\"\n",
    "except:\n",
    "    print \"Something went wrong with performing a metric calculation.\""
   ]
  },
  {
   "cell_type": "markdown",
   "metadata": {},
   "source": [
    "## Question 4\n",
    "*Which performance metric below did you find was most appropriate for predicting housing prices and analyzing the total error. Why?*\n",
    "- *Accuracy*\n",
    "- *Precision*\n",
    "- *Recall*\n",
    "- *F1 Score*\n",
    "- *Mean Squared Error (MSE)*\n",
    "- *Mean Absolute Error (MAE)*"
   ]
  },
  {
   "cell_type": "markdown",
   "metadata": {},
   "source": [
    "**Answer: **\n",
    "\n",
    "Accuracy, precision, recall and F1 score were all presented as being used only in discreet prediction, and even if scikit has functions that allow them to be used for continuous variables, it seems like a bad idea to shoehorn them into a continuous prediction problem. Eliminating these four left only Mean Squared Error and Mean Absolute Error. I chose Mean Squared Error (MSE) because this metric is a standard measure of central tendancy and lets me think more intuitively about how 'good' my predictions are, since I can visualize the cutoffs in a normal distribution. It also makes sense that it is more important to get most estimates 'pretty good' and have few large errors than to have most estimates 'very good' but have more large errors. using MSE will increase the 'cost' of larger errors and lead to a larger band at higher confidence than if I had used absolute error. \n",
    "\n",
    "With a variable like housing sale price, it is likely that there would be a lot of unknown variables that affect the price, so it might be impossible to make a predictive model that gets a large majority of guesses close to correct - however, even if that is the case, we would still want to minimize the number of 'way off' guesses as much as possible. "
   ]
  },
  {
   "cell_type": "markdown",
   "metadata": {},
   "source": [
    "## Step 4 (Final Step)\n",
    "In the code block below, you will need to implement code so that the `fit_model` function does the following:\n",
    "- Create a scoring function using the same performance metric as in **Step 2**. See the [sklearn `make_scorer` documentation](http://scikit-learn.org/stable/modules/generated/sklearn.metrics.make_scorer.html).\n",
    "- Build a GridSearchCV object using `regressor`, `parameters`, and `scoring_function`. See the [sklearn documentation on GridSearchCV](http://scikit-learn.org/stable/modules/generated/sklearn.grid_search.GridSearchCV.html).\n",
    "\n",
    "When building the scoring function and GridSearchCV object, *be sure that you read the parameters documentation thoroughly.* It is not always the case that a default parameter for a function is the appropriate setting for the problem you are working on.\n",
    "\n",
    "Since you are using `sklearn` functions, remember to include the necessary import statements below as well!  \n",
    "Ensure that you have executed the code block once you are done. You'll know the `fit_model` function is working if the statement *\"Successfully fit a model to the data!\"* is printed."
   ]
  },
  {
   "cell_type": "code",
   "execution_count": 8,
   "metadata": {
    "collapsed": false
   },
   "outputs": [
    {
     "name": "stdout",
     "output_type": "stream",
     "text": [
      "make_scorer(mean_squared_error, greater_is_better=False)\n",
      "GridSearchCV(cv=None, error_score='raise',\n",
      "       estimator=DecisionTreeRegressor(criterion='mse', max_depth=None, max_features=None,\n",
      "           max_leaf_nodes=None, min_samples_leaf=1, min_samples_split=2,\n",
      "           min_weight_fraction_leaf=0.0, presort=False, random_state=None,\n",
      "           splitter='best'),\n",
      "       fit_params={}, iid=True, n_jobs=1,\n",
      "       param_grid={'max_depth': (1, 2, 3, 4, 5, 6, 7, 8, 9, 10)},\n",
      "       pre_dispatch='2*n_jobs', refit=True,\n",
      "       scoring=make_scorer(mean_squared_error, greater_is_better=False),\n",
      "       verbose=0)\n",
      "Successfully fit a model!\n"
     ]
    }
   ],
   "source": [
    "from sklearn.metrics import make_scorer\n",
    "\n",
    "from sklearn.grid_search import GridSearchCV\n",
    "\n",
    "\n",
    "\n",
    "\n",
    "def fit_model(X, y):\n",
    "    \"\"\" Tunes a decision tree regressor model using GridSearchCV on the input data X \n",
    "        and target labels y and returns this optimal model. \"\"\"\n",
    "    \n",
    "\n",
    "\n",
    "    # Create a decision tree regressor object\n",
    "    regressor = DecisionTreeRegressor()\n",
    "\n",
    "    # Set up the parameters we wish to tune\n",
    "    parameters = {'max_depth':(1,2,3,4,5,6,7,8,9,10)}\n",
    "\n",
    "    # Make an appropriate scoring function\n",
    "    scoring_function = make_scorer(mean_squared_error, greater_is_better=False) \n",
    "    print(scoring_function)\n",
    "\n",
    "    # Make the GridSearchCV object\n",
    "    reg = GridSearchCV(regressor, param_grid = parameters, scoring = scoring_function)\n",
    "    print(reg)\n",
    "    \n",
    "    # Fit the learner to the data to obtain the optimal model with tuned parameters\n",
    "    reg.fit(X,y)\n",
    "\n",
    "    # Return the optimal model\n",
    "    return reg.best_estimator_\n",
    "\n",
    "\n",
    "# Test fit_model on entire dataset\n",
    "try:\n",
    "    reg = fit_model(housing_features, housing_prices)\n",
    "    print \"Successfully fit a model!\"\n",
    "except:\n",
    "    print \"Something went wrong with fitting a model.\""
   ]
  },
  {
   "cell_type": "markdown",
   "metadata": {},
   "source": [
    "## Question 5\n",
    "*What is the grid search algorithm and when is it applicable?*"
   ]
  },
  {
   "cell_type": "markdown",
   "metadata": {},
   "source": [
    "**Answer: **\n",
    "\n",
    "The grid search algorithm iteratively tunes a model by searching through all the parameters passed by the programmer to find which parameters are best for producing an accurate model. when multiple sets of parameters are passed, each combination is evaluated one after the other (in our case, the passed parameters were various depths of our decision tree regression).\n",
    "\n",
    "In addition to choosing the parameters to evaluate, the programmer must also choose how GridSearchCV evaluates them - in our case this was done by passing the command to minimize mean squared error.\n",
    "\n",
    "GridSearchCV is an exhaustive search, so for very large data sets (protein folding or Go analysis for example) it wouldn't be appropriate. For smaller data sets like this one though, it produces clear-cut results.\n"
   ]
  },
  {
   "cell_type": "markdown",
   "metadata": {},
   "source": [
    "## Question 6\n",
    "*What is cross-validation, and how is it performed on a model? Why would cross-validation be helpful when using grid search?*"
   ]
  },
  {
   "cell_type": "code",
   "execution_count": null,
   "metadata": {
    "collapsed": true
   },
   "outputs": [],
   "source": []
  },
  {
   "cell_type": "markdown",
   "metadata": {},
   "source": [
    "**Answer: **\n",
    "\n",
    "Cross-validation is when one divides one's data into n parts, 'trains' one's model using n-1 of these parts, and 'tests' it against the remaining part. This process is then repeated for each of the n subdivisions, and the results averaged. In this way, we can essentially 'train' and 'test' a model on an entire data set rather than using only part of it for training and part for testing. By randomizing and using the entire data set, we avoid artifacts like the order data was entered in or a biased random assignment.\n",
    "\n",
    "For grid search this is particularly important since overfitting can easily happen, particularly when a complex grid search algorithm produces much better results by simply memorizing the training set. This is more likely to occur the smaller the testing or training set, hence cross-validation can help by increasing the absolute 'size' of both. \n",
    "\n",
    "Using grid search to find the best parameters for only a subset of the data poses two obvious problems: a parameter could be very consistant but have a subtle effect, and in this case we would be more likely to detect it if we are searching over the entire data set. At the same time, the complexity of grid search algorithms make overfitting very easy, especially in a relatively small data set. But it is much less likely to happen if we employ cross-validation, since we are essentially also testing the parameters against the entire data set, thus reducing the likelihood that the parameters we do find do not help predict novel data. "
   ]
  },
  {
   "cell_type": "markdown",
   "metadata": {},
   "source": [
    "# Checkpoint!\n",
    "You have now successfully completed your last code implementation section. Pat yourself on the back! All of your functions written above will be executed in the remaining sections below, and questions will be asked about various results for you to analyze. To prepare the **Analysis** and **Prediction** sections, you will need to intialize the two functions below. Remember, there's no need to implement any more code, so sit back and execute the code blocks! Some code comments are provided if you find yourself interested in the functionality."
   ]
  },
  {
   "cell_type": "code",
   "execution_count": 8,
   "metadata": {
    "collapsed": true
   },
   "outputs": [],
   "source": [
    "def learning_curves(X_train, y_train, X_test, y_test):\n",
    "    \"\"\" Calculates the performance of several models with varying sizes of training data.\n",
    "        The learning and testing error rates for each model are then plotted. \"\"\"\n",
    "    \n",
    "    print \"Creating learning curve graphs for max_depths of 1, 3, 6, and 10. . .\"\n",
    "    \n",
    "    # Create the figure window\n",
    "    fig = pl.figure(figsize=(10,8))\n",
    "\n",
    "    # We will vary the training set size so that we have 50 different sizes\n",
    "    sizes = np.rint(np.linspace(1, len(X_train), 50)).astype(int)\n",
    "    train_err = np.zeros(len(sizes))\n",
    "    test_err = np.zeros(len(sizes))\n",
    "\n",
    "    # Create four different models based on max_depth\n",
    "    for k, depth in enumerate([1,3,6,10]):\n",
    "        \n",
    "        for i, s in enumerate(sizes):\n",
    "            \n",
    "            # Setup a decision tree regressor so that it learns a tree with max_depth = depth\n",
    "            regressor = DecisionTreeRegressor(max_depth = depth)\n",
    "            \n",
    "            # Fit the learner to the training data\n",
    "            regressor.fit(X_train[:s], y_train[:s])\n",
    "\n",
    "            # Find the performance on the training set\n",
    "            train_err[i] = performance_metric(y_train[:s], regressor.predict(X_train[:s]))\n",
    "            \n",
    "            # Find the performance on the testing set\n",
    "            test_err[i] = performance_metric(y_test, regressor.predict(X_test))\n",
    "\n",
    "        # Subplot the learning curve graph\n",
    "        ax = fig.add_subplot(2, 2, k+1)\n",
    "        ax.plot(sizes, test_err, lw = 2, label = 'Testing Error')\n",
    "        ax.plot(sizes, train_err, lw = 2, label = 'Training Error')\n",
    "        ax.legend()\n",
    "        ax.set_title('max_depth = %s'%(depth))\n",
    "        ax.set_xlabel('Number of Data Points in Training Set')\n",
    "        ax.set_ylabel('Total Error')\n",
    "        ax.set_xlim([0, len(X_train)])\n",
    "    \n",
    "    # Visual aesthetics\n",
    "    fig.suptitle('Decision Tree Regressor Learning Performances', fontsize=18, y=1.03)\n",
    "    fig.tight_layout()\n",
    "    fig.show()"
   ]
  },
  {
   "cell_type": "code",
   "execution_count": 9,
   "metadata": {
    "collapsed": true
   },
   "outputs": [],
   "source": [
    "def model_complexity(X_train, y_train, X_test, y_test):\n",
    "    \"\"\" Calculates the performance of the model as model complexity increases.\n",
    "        The learning and testing errors rates are then plotted. \"\"\"\n",
    "    \n",
    "    print \"Creating a model complexity graph. . . \"\n",
    "\n",
    "    # We will vary the max_depth of a decision tree model from 1 to 14\n",
    "    max_depth = np.arange(1, 14)\n",
    "    train_err = np.zeros(len(max_depth))\n",
    "    test_err = np.zeros(len(max_depth))\n",
    "\n",
    "    for i, d in enumerate(max_depth):\n",
    "        # Setup a Decision Tree Regressor so that it learns a tree with depth d\n",
    "        regressor = DecisionTreeRegressor(max_depth = d)\n",
    "\n",
    "        # Fit the learner to the training data\n",
    "        regressor.fit(X_train, y_train)\n",
    "\n",
    "        # Find the performance on the training set\n",
    "        train_err[i] = performance_metric(y_train, regressor.predict(X_train))\n",
    "\n",
    "        # Find the performance on the testing set\n",
    "        test_err[i] = performance_metric(y_test, regressor.predict(X_test))\n",
    "\n",
    "    # Plot the model complexity graph\n",
    "    pl.figure(figsize=(7, 5))\n",
    "    pl.title('Decision Tree Regressor Complexity Performance')\n",
    "    pl.plot(max_depth, test_err, lw=2, label = 'Testing Error')\n",
    "    pl.plot(max_depth, train_err, lw=2, label = 'Training Error')\n",
    "    pl.legend()\n",
    "    pl.xlabel('Maximum Depth')\n",
    "    pl.ylabel('Total Error')\n",
    "    pl.show()"
   ]
  },
  {
   "cell_type": "markdown",
   "metadata": {},
   "source": [
    "# Analyzing Model Performance\n",
    "In this third section of the project, you'll take a look at several models' learning and testing error rates on various subsets of training data. Additionally, you'll investigate one particular algorithm with an increasing `max_depth` parameter on the full training set to observe how model complexity affects learning and testing errors. Graphing your model's performance based on varying criteria can be beneficial in the analysis process, such as visualizing behavior that may not have been apparent from the results alone."
   ]
  },
  {
   "cell_type": "code",
   "execution_count": 10,
   "metadata": {
    "collapsed": false
   },
   "outputs": [
    {
     "name": "stdout",
     "output_type": "stream",
     "text": [
      "Creating learning curve graphs for max_depths of 1, 3, 6, and 10. . .\n"
     ]
    },
    {
     "name": "stderr",
     "output_type": "stream",
     "text": [
      "C:\\Users\\User1\\Anaconda2\\lib\\site-packages\\matplotlib\\figure.py:397: UserWarning: matplotlib is currently using a non-GUI backend, so cannot show the figure\n",
      "  \"matplotlib is currently using a non-GUI backend, \"\n"
     ]
    },
    {
     "data": {
      "image/png": "[encoded data removed]",
      "text/plain": [
       "<matplotlib.figure.Figure at 0x5ee3c10>"
      ]
     },
     "metadata": {},
     "output_type": "display_data"
    }
   ],
   "source": [
    "learning_curves(X_train, y_train, X_test, y_test)"
   ]
  },
  {
   "cell_type": "markdown",
   "metadata": {},
   "source": [
    "## Question 7\n",
    "*Choose one of the learning curve graphs that are created above. What is the max depth for the chosen model? As the size of the training set increases, what happens to the training error? What happens to the testing error?*"
   ]
  },
  {
   "cell_type": "markdown",
   "metadata": {},
   "source": [
    "**Answer: **\n",
    "\n",
    "I chose the third learning curve graph, the one with a max depth of 6. In this figure, testing error rapidly decreases for the first 50-60 data points. A slower and clearly decelerating decline is visible as the number of data points increases, with only very little downward trend observable after the first 80-90 measurements. It appears to be best modeled by an exponential decay function of the form (A-b*e^(-x)), beginning at ~130 when data points=0, and ~15 when data points = 350\n",
    "\n",
    "Training error appears to increase linearly, with the maximum number of data points leading to a testing error of about half that of the training error. Presumably it also roughly follows an exponential decay curve (though increasing, of the form A+b*e^(-x)), but it is not visible on this size data set.\n"
   ]
  },
  {
   "cell_type": "markdown",
   "metadata": {},
   "source": [
    "## Question 8\n",
    "*Look at the learning curve graphs for the model with a max depth of 1 and a max depth of 10. When the model is using the full training set, does it suffer from high bias or high variance when the max depth is 1? What about when the max depth is 10?*"
   ]
  },
  {
   "cell_type": "markdown",
   "metadata": {},
   "source": [
    "**Answer: **\n",
    "At max depth 1, the training and testing errors start out very far apart, with the training error at zero. We can thus assume that the model's error begins being 100% variance. As the number of data points increase, the training error also increases while the testing error decreases, with the two converging at the same value around 75 data points. We can assume therefore that a model with a max depth of 1 is 'as good as it gets' around 75 data points, and that most error after that is due to bias. \n",
    "\n",
    "At maximum depth of 10, the training error remains very close to zero, indicating negligible bias. The model still shows variability at max depth 10 however, as testing error appears to 'level off' at about half the error the first model converged at when Data Points = 100. This indicates that there is still a fair amount of variance in the model."
   ]
  },
  {
   "cell_type": "code",
   "execution_count": 11,
   "metadata": {
    "collapsed": false
   },
   "outputs": [
    {
     "name": "stdout",
     "output_type": "stream",
     "text": [
      "Creating a model complexity graph. . . \n"
     ]
    },
    {
     "data": {
      "image/png": "[encoded data removed]",
      "text/plain": [
       "<matplotlib.figure.Figure at 0x5d3c6b0>"
      ]
     },
     "metadata": {},
     "output_type": "display_data"
    }
   ],
   "source": [
    "model_complexity(X_train, y_train, X_test, y_test)"
   ]
  },
  {
   "cell_type": "markdown",
   "metadata": {},
   "source": [
    "## Question 9\n",
    "*From the model complexity graph above, describe the training and testing errors as the max depth increases. Based on your interpretation of the graph, which max depth results in a model that best generalizes the dataset? Why?*"
   ]
  },
  {
   "cell_type": "markdown",
   "metadata": {},
   "source": [
    "**Answer: **\n",
    "\n",
    "In this figure we can see training error rapidly decreases over the first 6 measurements. After the first six measurements testing error seems to stabilize or 'level off' at an average error of ~15. Training error rapidly decreases over the first six measurements as well and approaches 0 by nine measurements. After nine measurements, training error remains at ~0. (where a measurement is represented by a tick on the x-axis, and error is measured on the y-axis)\n",
    "\n",
    "After running the function a few times, I would say a max depth of 6 best generalizes the data because it leads to roughly the lowest testing error, the value of interest. The rate of decline in testing error as a function of maximum depth clearly slows around max depth = 4, but for a value of 6 at least the testing error value is still noticeably lower, though most commonly only marginally better than 5. While max depths higher than 6 have testing error values very close to and sometimes less than the error we see at max depth 6, the absolute numbers are close enough that they do not seem to justify the extra computing power they would require for essentially the same performance."
   ]
  },
  {
   "cell_type": "markdown",
   "metadata": {},
   "source": [
    "# Model Prediction\n",
    "In this final section of the project, you will make a prediction on the client's feature set using an optimized model from `fit_model`. When applying grid search along with cross-validation to optimize your model, it would typically be performed and validated on a training set and subsequently evaluated on a **dedicated test set**. In this project, the optimization below is performed on the *entire dataset* (as opposed to the training set you made above) due to the many outliers in the data. Using the entire dataset for training provides for a less volatile prediction at the expense of not testing your model's performance. \n",
    "\n",
    "*To answer the following questions, it is recommended that you run the code blocks several times and use the median or mean value of the results.*"
   ]
  },
  {
   "cell_type": "markdown",
   "metadata": {},
   "source": [
    "## Question 10\n",
    "*Using grid search on the entire dataset, what is the optimal `max_depth` parameter for your model? How does this result compare to your intial intuition?*  \n",
    "**Hint: ** Run the code block below to see the max depth produced by your optimized model."
   ]
  },
  {
   "cell_type": "code",
   "execution_count": 12,
   "metadata": {
    "collapsed": false
   },
   "outputs": [
    {
     "name": "stdout",
     "output_type": "stream",
     "text": [
      "Final model has an optimal max_depth parameter of 5\n"
     ]
    }
   ],
   "source": [
    "print \"Final model has an optimal max_depth parameter of\", reg.get_params()['max_depth']"
   ]
  },
  {
   "cell_type": "markdown",
   "metadata": {},
   "source": [
    "#### **Answer: **\n",
    "\n",
    "The optimized model has a max_depth parameter of 5. This is in line with my 'eballing it' guess of 6. "
   ]
  },
  {
   "cell_type": "markdown",
   "metadata": {},
   "source": [
    "## Question 11\n",
    "*With your parameter-tuned model, what is the best selling price for your client's home? How does this selling price compare to the basic statistics you calculated on the dataset?*  \n",
    "\n",
    "**Hint: ** Run the code block below to have your parameter-tuned model make a prediction on the client's home."
   ]
  },
  {
   "cell_type": "code",
   "execution_count": 13,
   "metadata": {
    "collapsed": false
   },
   "outputs": [
    {
     "name": "stdout",
     "output_type": "stream",
     "text": [
      "Predicted value of client's home: 20.968\n"
     ]
    }
   ],
   "source": [
    "sale_price = reg.predict(CLIENT_FEATURES)\n",
    "print \"Predicted value of client's home: {0:.3f}\".format(sale_price[0])"
   ]
  },
  {
   "cell_type": "markdown",
   "metadata": {},
   "source": [
    "**Answer: **\n",
    "\n",
    "The predicted value of the client's home is 20.968, slightly below the mean and median price of homes already sold, but very close to both values, being less than half a standard deviation away from the mean."
   ]
  },
  {
   "cell_type": "markdown",
   "metadata": {},
   "source": [
    "## Question 12 (Final Question):\n",
    "*In a few sentences, discuss whether you would use this model or not to predict the selling price of future clients' homes in the Greater Boston area.*"
   ]
  },
  {
   "cell_type": "markdown",
   "metadata": {},
   "source": [
    "**Answer: **\n",
    "I might use this model to predict the likely house price, but I would use that as a rough guideline only. The downside to using a model like this would be that I would want to initially offer a home for more than the likely sale price. A model like this would make it easier to know what the likely sale price is, but when one is deliberately offering a very high price, it is not difficult to do so even without a sophisticated knowledge of the market, especially the historical market. The most obvious use of this model would be to manage my clients' expectations, but showing a simple model like this one which does not include whether a realtor was involved might make them think that I, as a realtor, am not all that important to the transaction. \n",
    "\n",
    "I might use a model like this one as the basis for a more sophisticated model, which takes into account not just the sale price of similar houses but how long a home stays on the market as its price deviates from the mean. A model like that I could actually use to optimize my comission and likelihood of a happy customer."
   ]
  },
  {
   "cell_type": "code",
   "execution_count": null,
   "metadata": {
    "collapsed": true
   },
   "outputs": [],
   "source": []
  },
  {
   "cell_type": "code",
   "execution_count": null,
   "metadata": {
    "collapsed": true
   },
   "outputs": [],
   "source": []
  }
 ],
 "metadata": {
  "kernelspec": {
   "display_name": "Python 2",
   "language": "python",
   "name": "python2"
  },
  "language_info": {
   "codemirror_mode": {
    "name": "ipython",
    "version": 2
   },
   "file_extension": ".py",
   "mimetype": "text/x-python",
   "name": "python",
   "nbconvert_exporter": "python",
   "pygments_lexer": "ipython2",
   "version": "2.7.11"
  }
 },
 "nbformat": 4,
 "nbformat_minor": 0
}
